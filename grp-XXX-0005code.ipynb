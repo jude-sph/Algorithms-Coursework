{
  "metadata": {
    "kernelspec": {
      "name": "python",
      "display_name": "Python (Pyodide)",
      "language": "python"
    },
    "language_info": {
      "codemirror_mode": {
        "name": "python",
        "version": 3
      },
      "file_extension": ".py",
      "mimetype": "text/x-python",
      "name": "python",
      "nbconvert_exporter": "python",
      "pygments_lexer": "ipython3",
      "version": "3.8"
    }
  },
  "nbformat_minor": 4,
  "nbformat": 4,
  "cells": [
    {
      "cell_type": "markdown",
      "source": "# COMP0005 - GROUP COURSEWORK\n# Experimental Evaluation of Search Data Structures and Algorithms",
      "metadata": {}
    },
    {
      "cell_type": "markdown",
      "source": "The cell below defines **AbstractSearchInterface**, an interface to support basic insert/search operations; you will need to implement this three times, to realise your three search data structures of choice among: (1) *2-3 Tree*, (2) *AVL Tree*, (3) *LLRB BST*; (4) *B-Tree*; and (5) *Scapegoat Tree*. <br><br>**Do NOT modify the next cell** - use the dedicated cells further below for your implementation instead. <br>",
      "metadata": {}
    },
    {
      "cell_type": "code",
      "source": "# DO NOT MODIFY THIS CELL\n\nfrom abc import ABC, abstractmethod  \n\nclass AbstractSearchInterface(ABC):\n    '''\n    Abstract class to support search/insert operations (plus underlying data structure)\n    \n    '''\n        \n    @abstractmethod\n    def insertElement(self, element):     \n        '''\n        Insert an element in a search tree\n            Parameters:\n                    element: string to be inserted in the search tree (string)\n\n            Returns:\n                    \"True\" after successful insertion, \"False\" if element is already present (bool)\n        '''\n        \n        pass \n    \n\n    @abstractmethod\n    def searchElement(self, element):\n        '''\n        Search for an element in a search tree\n            Parameters:\n                    element: string to be searched in the search tree (string)\n\n            Returns:\n                    \"True\" if element is found, \"False\" otherwise (bool)\n        '''\n\n        pass",
      "metadata": {
        "trusted": true
      },
      "outputs": [],
      "execution_count": 21
    },
    {
      "cell_type": "markdown",
      "source": "Use the cell below to define any auxiliary data structure and python function you may need. Leave the implementation of the main API to the next code cells instead.",
      "metadata": {}
    },
    {
      "cell_type": "code",
      "source": "# ADD AUXILIARY DATA STRUCTURE DEFINITIONS AND HELPER CODE HERE\nclass Node:\n    def __init__(self, value:int, colour:bool, left=None, right=None):\n        self.value = value\n        self.colour = colour #true for red, false for black, for llrb tree\n        self.left = left\n        self.right = right\n        \n    def __init__(self, value:int, height=0, left=None, right=None):\n        self.value = value\n        self.height = height #for AVL tree\n        self.left = left\n        self.right = right\n\n    def __init__(self, value:int, size:int, left=None, right=None):\n        self.value = value\n        self.size = size #for Scapegoat tree\n        self.left = left\n        self.right = right\n\n    \n\ndef search(node, element):\n    if (node == None):\n        return False\n    elif (node.value > element):\n        return search(node.left, element)\n    elif (node.value < element):\n        return search(node.right, element)\n    elif (node.value == element):\n        return True\n    \ndef rotateLeft(self, node):\n        x = node.right\n        node.right = x.left\n        x.left = node\n        x.colour = node.colour\n        node.colour = True\n        return x\n\ndef rotateRight(self, node):\n    x = node.left\n    node.left = x.right\n    x.right = node\n    x.colour = node.colour\n    node.colour = True\n    return x\n\ndef findSize(self, node):\n    # for Scapegoat\n    if node == None:\n        return 0\n    else:\n        return findSize(node.left) + findSize(node.right) + 1",
      "metadata": {
        "trusted": true
      },
      "outputs": [],
      "execution_count": 22
    },
    {
      "cell_type": "markdown",
      "source": "Use the cell below to implement the requested API by means of **2-3 Tree** (if among your chosen data structure).",
      "metadata": {}
    },
    {
      "cell_type": "code",
      "source": "class TwoThreeTree(AbstractSearchInterface):\n        \n    def insertElement(self, element):\n        inserted = False\n        # ADD YOUR CODE HERE\n      \n        \n        return inserted\n    \n    \n\n    def searchElement(self, element):     \n        found = False\n        # ADD YOUR CODE HERE\n\n        \n        return found    ",
      "metadata": {
        "trusted": true
      },
      "outputs": [],
      "execution_count": 23
    },
    {
      "cell_type": "markdown",
      "source": "Use the cell below to implement the requested API by means of **AVL Tree** (if among your chosen data structure).",
      "metadata": {}
    },
    {
      "cell_type": "code",
      "source": "class AVLTree(AbstractSearchInterface):\n\n    def __init__(self):\n        self.root = None\n\n    def __init__(self, val):\n        self.root = Node(val)\n    def height(self, node):\n        if node is None:\n            return 0\n        return node.height\n    def getBalance(self, node):\n        if node is None:\n            return 0\n        return self.height(node.left) - self.height(node.right)\n    \n    def put(self, node, element):\n        #normal BST insertion\n        if node is None:\n            return Node(element)\n        if element < node.value:\n            node.left = self.put(node.left, element)\n        elif element > node.value:\n            node.right = self.put(node.right, element)\n        else:\n            return node\n\n        node.height = 1 + max(self.height(node.left), self.height(node.right))\n        balance = self.getBalance(node)\n\n        # Left Left\n        if balance > 1 and element < node.left.value:\n            return rotateRight(node)\n\n        # Right Right\n        if balance < -1 and element > node.right.value:\n            return rotateLeft(node)\n\n        # Left Right\n        if balance > 1 and element > node.left.value:\n            node.left = rotateLeft(node.left)\n            return rotateRight(node)\n\n        # Right Left\n        if balance < -1 and element < node.right.value:\n            node.right = rotateRight(node.right)\n            return rotateLeft(node)\n\n        return node  \n    \n    def insertElement(self, element):\n        inserted = False\n        self.root = self.put(self.root, element)\n        inserted = True\n        return inserted\n    \n    \n\n    def searchElement(self, element):     \n        found = search(self.root, element)\n        return found  \n",
      "metadata": {
        "trusted": true
      },
      "outputs": [
        {
          "ename": "<class 'TypeError'>",
          "evalue": "Node.__init__() missing 1 required positional argument: 'size'",
          "traceback": [
            "\u001b[0;31m---------------------------------------------------------------------------\u001b[0m",
            "\u001b[0;31mTypeError\u001b[0m                                 Traceback (most recent call last)",
            "Cell \u001b[0;32mIn[35], line 63\u001b[0m\n\u001b[1;32m     60\u001b[0m         found \u001b[38;5;241m=\u001b[39m search(\u001b[38;5;28mself\u001b[39m\u001b[38;5;241m.\u001b[39mroot, element)\n\u001b[1;32m     61\u001b[0m         \u001b[38;5;28;01mreturn\u001b[39;00m found  \n\u001b[0;32m---> 63\u001b[0m tree \u001b[38;5;241m=\u001b[39m \u001b[43mAVLTree\u001b[49m\u001b[43m(\u001b[49m\u001b[38;5;124;43m\"\u001b[39;49m\u001b[38;5;124;43mroot\u001b[39;49m\u001b[38;5;124;43m\"\u001b[39;49m\u001b[43m)\u001b[49m\n\u001b[1;32m     64\u001b[0m tree\u001b[38;5;241m.\u001b[39minsertElement(\u001b[38;5;124m\"\u001b[39m\u001b[38;5;124mjude\u001b[39m\u001b[38;5;124m\"\u001b[39m)\n\u001b[1;32m     65\u001b[0m tree\u001b[38;5;241m.\u001b[39minsertElement(\u001b[38;5;124m\"\u001b[39m\u001b[38;5;124mhawrani\u001b[39m\u001b[38;5;124m\"\u001b[39m)\n",
            "Cell \u001b[0;32mIn[35], line 7\u001b[0m, in \u001b[0;36mAVLTree.__init__\u001b[0;34m(self, val)\u001b[0m\n\u001b[1;32m      6\u001b[0m \u001b[38;5;28;01mdef\u001b[39;00m \u001b[38;5;21m__init__\u001b[39m(\u001b[38;5;28mself\u001b[39m, val):\n\u001b[0;32m----> 7\u001b[0m     \u001b[38;5;28mself\u001b[39m\u001b[38;5;241m.\u001b[39mroot \u001b[38;5;241m=\u001b[39m \u001b[43mNode\u001b[49m\u001b[43m(\u001b[49m\u001b[43mval\u001b[49m\u001b[43m)\u001b[49m\n",
            "\u001b[0;31mTypeError\u001b[0m: Node.__init__() missing 1 required positional argument: 'size'"
          ],
          "output_type": "error"
        }
      ],
      "execution_count": 35
    },
    {
      "cell_type": "markdown",
      "source": "Use the cell below to implement the requested API by means of **LLRB BST** (if among your chosen data structure).",
      "metadata": {}
    },
    {
      "cell_type": "code",
      "source": "class LLRBBST(AbstractSearchInterface):\n    def __init__(self):\n        self.root = None\n    \n    def __init__(self, rootVal):\n        self.root = Node(rootVal, False)\n    \n    \n    def flipColour(self, node):\n        node.colour = True\n        node.left.colour = False\n        node.right.colour = False\n\n    def put(self, node, element):\n        if node == None:\n            return Node(element, True)\n        if element < node.value:\n            node.left = self.put(node.left, element)\n        elif element > node.value:\n            node.right = self.put(node.right, element)\n        else:\n            node.value = element  \n        \n        if (node.colour and not node.left.colour):\n            node = self.rotateLeft(node)\n        if (node.colour and node.left.left.colour):\n            node = self.rotateRight(node)\n        if (node.colour and node.right.colour):\n            self.flipColour(node)\n        return node\n\n    \n    def insertElement(self, element):\n        inserted = Falseall\n        # ADD YOUR CODE HERE\n        self.root = self.put(self.root, element)\n        self.root.colour = False\n\n        inserted = True\n        return inserted\n    \n    \n\n    def searchElement(self, element):     \n        found = search(self.root, element)\n        return found",
      "metadata": {
        "trusted": true
      },
      "outputs": [],
      "execution_count": 32
    },
    {
      "cell_type": "markdown",
      "source": "Use the cell below to implement the requested API by means of **B-Tree** (if among your chosen data structure).",
      "metadata": {}
    },
    {
      "cell_type": "code",
      "source": "class BTree(AbstractSearchInterface):\n        \n    def insertElement(self, element):\n        inserted = False\n        # ADD YOUR CODE HERE\n      \n        \n        return inserted\n    \n    \n\n    def searchElement(self, element):     \n        found = False\n        # ADD YOUR CODE HERE\n\n        \n        return found",
      "metadata": {
        "trusted": true
      },
      "outputs": [],
      "execution_count": 26
    },
    {
      "cell_type": "markdown",
      "source": "Use the cell below to implement the requested API by means of **Scapegoat Tree** (if among your chosen data structure).",
      "metadata": {}
    },
    {
      "cell_type": "code",
      "source": "class ScapegoatTree(AbstractSearchInterface):\n    \n    def __init__(self, alpha):\n        self.alpha = alpha\n        self.root = None\n        self.size = 0\n\n    def __putElement(self, nodeToCheck, element, nodePath=[]):\n        # inserts an element and checks balance without balancing after\n        # returns the path taken to insert the node (doesn't include the inserted node)\n        if nodeToCheck is None:\n            return None\n        nodePath.append(nodeToCheck)\n        nodeToCheck.size += 1\n        if element <= nodeToCheck.value:\n            if nodeToCheck.left == None:\n                nodeToCheck.left = Node(element, size=1)\n                return nodePath\n            else:\n                self.__putElement(nodeToCheck.left, element, nodePath)\n        else:\n            if nodeToCheck.right == None:\n                nodeToCheck.right = Node(element, size=1)\n                return nodePath\n            else:\n                self.__putElement(nodeToCheck.right, element, nodePath)\n        self.size += 1\n\n    def _checkNodeBalance(self, node):\n        size = node.size\n        if node.left is not None:\n            if node.left.size > self.alpha * size:\n                return False\n        if node.right is not None:\n            if node.right.size > self.alpha * size:\n                return False\n        return True\n    \n    def _checkTreeBalance(self, nodePath):\n        # finds the scapegoat\n        for i in range(len(nodePath) - 1, -1, -1):\n            if not self._checkNodeBalance(nodePath[i]):\n                return nodePath[i]\n        return None\n    \n    def _inOrderTraversal(self, node, nodes):\n        if node is not None:\n            self._inOrderTraversal(node.left, nodes)\n            nodes.append(node)\n            self._inOrderTraversal(node.right, nodes)\n\n    def _buildBalancedTree(self, nodes, start, end):\n        if start > end:\n            return None\n        mid = (start + end) // 2\n        root = nodes[mid]\n        root.left = self._buildBalancedTree(nodes, start, mid - 1)\n        root.right = self._buildBalancedTree(nodes, mid + 1, end)\n        root.size = (end - start + 1)\n        return root\n    \n    def _rebuildSubtree(self, scapegoat):\n        # rebalances from the scapegoat\n        nodes = []\n        self._inOrderTraversal(scapegoat, nodes)\n        if scapegoat == self.root:\n            self.root = self._buildBalancedTree(nodes, 0, len(nodes) - 1)\n        else:\n            parent = None\n            node = self.root\n            while node is not None:\n                if node.left == scapegoat or node.right == scapegoat:\n                    parent = node\n                    break\n                elif scapegoat.value < node.value:\n                    node = node.left\n                else:\n                    node = node.right\n            if parent.left == scapegoat:\n                parent.left = self._buildBalancedTree(nodes, 0, len(nodes) - 1)\n            else:\n                parent.right = self._buildBalancedTree(nodes, 0, len(nodes) - 1)\n\n\n    def insertElement(self, element):\n        #1. traverse to find insertion point, keep a track of depth\n        #2. insert new node\n        #3. check if tree violated balance property\n            #3.a if it does find the scapegoat and rebuild the subtree rooted at the scapegoat\n        if self.root is None:\n            self.root = Node(element, size=1)\n            self.size = 1\n            return self.root\n        nodePath = self.__putElement(self.root, element)\n        scapegoat = self._checkTreeBalance(nodePath)\n        if scapegoat is not None:all\n            self._rebuildSubtree(scapegoat)\n        return True\n    \n    \n\n    def searchElement(self, element):     \n        found = False\n        node = self.root\n        while node is not None:\n            if element == node.value:\n                found = True\n                break\n            elif element < node.value:\n                node = node.left\n            else:\n                node = node.right\n        return found",
      "metadata": {
        "trusted": true
      },
      "outputs": [],
      "execution_count": 27
    },
    {
      "cell_type": "markdown",
      "source": "Use the cell below to implement the **synthetic data generator** needed by your experimental framework (be mindful of code readability and reusability).",
      "metadata": {}
    },
    {
      "cell_type": "code",
      "source": "import string\nimport random\n\nclass TestDataGenerator():\n    '''\n    A class to represent a synthetic data generator.\n\n    ...\n\n    Attributes\n    ----------\n    \n    [to be defined as part of the coursework]\n\n    Methods\n    -------\n    \n    [to be defined as part of the coursework]\n\n    '''\n    \n    #ADD YOUR CODE HERE\n    \n    def __init__(self):\n        pass\n\n    def randomWord(self, max_length=10):\n        length = random.randint(1,max_length)\n        alphabet = \"abcdefghijklmnopqrstuvwxyzABCDEFGHIJKLMNOPQRSTUVWXYZ\"\n        word = \"\"\n        for i in range(length):\n            word = word + random.choice(alphabet)\n        return word\n    \n    def generateAscending(self, size, max_word_length = 10):\n\n        if size <= 0:\n            return []\n\n        \n        lst = [self.randomWord()] \n        for _ in range(size - 1):\n            # Ensure strictly ascending\n            next_word = self.randomWord()\n            while lst[-1] > next_word:\n                next_word = self.randomWord()\n                \n            lst.append(next_word)\n        \n        return lst\n\n    def generateDescending(self, size, max_word_length=10):\n\n        if size <= 0:\n            return []\n\n        \n        lst = [self.randomWord()] \n        for _ in range(size - 1):\n            # Ensure strictly ascending\n            next_word = self.randomWord()\n            while lst[-1] < next_word:\n                next_word = self.randomWord()\n                \n            lst.append(next_word)\n        \n        return lst\n\n    def generateBitonic(self, size, ascendingSize = 0, max_word_length=10):\n\n        if size <= 0:\n            return []\n\n        if ascendingSize == 0:\n            ascendingSize = random.randint(2,size-1)\n\n        print(\"peak:\",ascendingSize)\n        lst = [] \n        lst = lst + self.generateAscending(ascendingSize, max_word_length)\n        lst = lst + self.generateDescending(size - ascendingSize, max_word_length)\n\n        return lst\n\n    def generateNoRotation(self, size):\n        if size <= 0:\n            return []\n\n        # find a way to implement the no rotation data which theoratically has the least overhead\n        \n        return lst\n\n    def testInsertSearch(self, testData, tree):\n        # inserting data\n        for data in testData:\n            tree.insertElement(data)\n            \n        # searching data | best worst and avg case for all three tree are the same since all of them are balanced trees\n        #best case (root node)\n        val = tree.root\n        tree.searchElement(val)\n        \n        #worst case (leaf node)\n\n        #avg case\n        val = random.choice(testData)\n        tree.searchElement(val)\n\n\n    def testAVLtree(self, size_arr = [10,100,1000]):\n        \n        for size in size_arr:\n            testData = TestDataGenerator().generateAscending(size)\n            tree = AVLTree() # can i not initiate an empty tree?\n            self.testInsertSearch(testData, tree)\n\n            testData = TestDataGenerator().generateDescending(size)\n            tree = AVLTree() # can i not initiate an empty tree?\n            self.testInsertSearch(testData, tree)\n\n            testData = TestDataGenerator().generateBitonic(size)\n            tree = AVLTree() # can i not initiate an empty tree?\n            self.testInsertSearch(testData, tree)\n\n    def testLLRBBST(self, size_arr = [10,100,1000]):\n\n        \n        for size in size_arr:\n            testData = TestDataGenerator().generateAscending(size)\n            tree = LLRBBST() # can i not initiate an empty tree?\n            self.testInsertSearch(testData, tree)\n\n            testData = TestDataGenerator().generateDescending(size)\n            tree = LLRBBST() # can i not initiate an empty tree?\n            self.testInsertSearch(testData, tree)\n\n            testData = TestDataGenerator().generateBitonic(size)\n            tree = LLRBBST() # can i not initiate an empty tree?\n            self.testInsertSearch(testData, tree)\n\n    def testScapegoatTree(self, size_arr = [10,100,1000]):\n\n        \n        for size in size_arr:\n            testData = TestDataGenerator().generateAscending(size)\n            tree = ScapegoatTree(0.7) # can i not initiate an empty tree?\n            self.testInsertSearch(testData, tree)\n\n            testData = TestDataGenerator().generateDescending(size)\n            tree = ScapegoatTree(0.7) # can i not initiate an empty tree?\n            self.testInsertSearch(testData, tree)\n\n            testData = TestDataGenerator().generateBitonic(size)\n            tree = ScapegoatTree(0.7) # can i not initiate an empty tree?\n            self.testInsertSearch(testData, tree)\n\nTestDataGenerator().generateBitonic(10)\nTestDataGenerator().testAVLtree()",
      "metadata": {
        "trusted": true
      },
      "outputs": [
        {
          "name": "stdout",
          "output_type": "stream",
          "text": "peak: 2\n"
        },
        {
          "ename": "<class 'TypeError'>",
          "evalue": "AVLTree.__init__() missing 1 required positional argument: 'val'",
          "traceback": [
            "\u001b[0;31m---------------------------------------------------------------------------\u001b[0m",
            "\u001b[0;31mTypeError\u001b[0m                                 Traceback (most recent call last)",
            "Cell \u001b[0;32mIn[28], line 157\u001b[0m\n\u001b[1;32m    154\u001b[0m             \u001b[38;5;28mself\u001b[39m\u001b[38;5;241m.\u001b[39mtestInsertSearch(testData, tree)\n\u001b[1;32m    156\u001b[0m TestDataGenerator()\u001b[38;5;241m.\u001b[39mgenerateBitonic(\u001b[38;5;241m10\u001b[39m)\n\u001b[0;32m--> 157\u001b[0m \u001b[43mTestDataGenerator\u001b[49m\u001b[43m(\u001b[49m\u001b[43m)\u001b[49m\u001b[38;5;241;43m.\u001b[39;49m\u001b[43mtestAVLtree\u001b[49m\u001b[43m(\u001b[49m\u001b[43m)\u001b[49m\n",
            "Cell \u001b[0;32mIn[28], line 113\u001b[0m, in \u001b[0;36mTestDataGenerator.testAVLtree\u001b[0;34m(self, size_arr)\u001b[0m\n\u001b[1;32m    111\u001b[0m \u001b[38;5;28;01mfor\u001b[39;00m size \u001b[38;5;129;01min\u001b[39;00m size_arr:\n\u001b[1;32m    112\u001b[0m     testData \u001b[38;5;241m=\u001b[39m TestDataGenerator()\u001b[38;5;241m.\u001b[39mgenerateAscending(size)\n\u001b[0;32m--> 113\u001b[0m     tree \u001b[38;5;241m=\u001b[39m \u001b[43mAVLTree\u001b[49m\u001b[43m(\u001b[49m\u001b[43m)\u001b[49m \u001b[38;5;66;03m# can i not initiate an empty tree?\u001b[39;00m\n\u001b[1;32m    114\u001b[0m     \u001b[38;5;28mself\u001b[39m\u001b[38;5;241m.\u001b[39mtestInsertSearch(testData, tree)\n\u001b[1;32m    116\u001b[0m     testData \u001b[38;5;241m=\u001b[39m TestDataGenerator()\u001b[38;5;241m.\u001b[39mgenerateDescending(size)\n",
            "\u001b[0;31mTypeError\u001b[0m: AVLTree.__init__() missing 1 required positional argument: 'val'"
          ],
          "output_type": "error"
        }
      ],
      "execution_count": 28
    },
    {
      "cell_type": "markdown",
      "source": "Use the cell below to implement the requested **experimental framework** (be mindful of code readability and reusability).",
      "metadata": {}
    },
    {
      "cell_type": "code",
      "source": "import timeit\nimport matplotlib\n\nclass ExperimentalFramework():\n    '''\n    A class to represent an experimental framework.\n\n    ...\n\n    Attributes\n    ----------\n    \n    [to be defined as part of the coursework]\n\n    Methods\n    -------\n    \n    [to be defined as part of the coursework]\n\n    '''\n            \n    #ADD YOUR CODE HERE\n    \n    def __init__():\n        pass\n",
      "metadata": {
        "trusted": true
      },
      "outputs": [],
      "execution_count": 36
    },
    {
      "cell_type": "markdown",
      "source": "Use the cell below to illustrate the python code you used to **fully evaluate** your three chosen search data structures and algortihms. The code below should illustrate, for example, how you made used of the **TestDataGenerator** class to generate test data of various size and properties; how you instatiated the **ExperimentalFramework** class to  evaluate each data structure using such data, collect information about their execution time, plot results, etc. Any results you illustrate in the companion PDF report should have been generated using the code below.",
      "metadata": {}
    },
    {
      "cell_type": "code",
      "source": "# ADD YOUR TEST CODE HERE \ntree = ScapegoatTree(0.7)\ntree.insertElement(\"jude\")\ntree.insertElement(\"hawrani\")\ntree.insertElement(\"xylophone\")\nprint(tree.searchElement(\"xylophone\"))",
      "metadata": {
        "trusted": true
      },
      "outputs": [
        {
          "name": "stdout",
          "output_type": "stream",
          "text": "True\n"
        }
      ],
      "execution_count": 37
    },
    {
      "cell_type": "code",
      "source": "",
      "metadata": {
        "trusted": true
      },
      "outputs": [],
      "execution_count": null
    }
  ]
}