{
 "cells": [
  {
   "cell_type": "markdown",
   "metadata": {},
   "source": [
    "# COMP0005 - GROUP COURSEWORK\n",
    "# Experimental Evaluation of Search Data Structures and Algorithms"
   ]
  },
  {
   "cell_type": "markdown",
   "metadata": {},
   "source": [
    "The cell below defines **AbstractSearchInterface**, an interface to support basic insert/search operations; you will need to implement this three times, to realise your three search data structures of choice among: (1) *2-3 Tree*, (2) *AVL Tree*, (3) *LLRB BST*; (4) *B-Tree*; and (5) *Scapegoat Tree*. <br><br>**Do NOT modify the next cell** - use the dedicated cells further below for your implementation instead. <br>"
   ]
  },
  {
   "cell_type": "code",
   "execution_count": null,
   "metadata": {},
   "outputs": [],
   "source": [
    "# DO NOT MODIFY THIS CELL\n",
    "\n",
    "from abc import ABC, abstractmethod  \n",
    "\n",
    "class AbstractSearchInterface(ABC):\n",
    "    '''\n",
    "    Abstract class to support search/insert operations (plus underlying data structure)\n",
    "    \n",
    "    '''\n",
    "        \n",
    "    @abstractmethod\n",
    "    def insertElement(self, element):     \n",
    "        '''\n",
    "        Insert an element in a search tree\n",
    "            Parameters:\n",
    "                    element: string to be inserted in the search tree (string)\n",
    "\n",
    "            Returns:\n",
    "                    \"True\" after successful insertion, \"False\" if element is already present (bool)\n",
    "        '''\n",
    "        \n",
    "        pass \n",
    "    \n",
    "\n",
    "    @abstractmethod\n",
    "    def searchElement(self, element):\n",
    "        '''\n",
    "        Search for an element in a search tree\n",
    "            Parameters:\n",
    "                    element: string to be searched in the search tree (string)\n",
    "\n",
    "            Returns:\n",
    "                    \"True\" if element is found, \"False\" otherwise (bool)\n",
    "        '''\n",
    "\n",
    "        pass"
   ]
  },
  {
   "cell_type": "markdown",
   "metadata": {},
   "source": [
    "Use the cell below to define any auxiliary data structure and python function you may need. Leave the implementation of the main API to the next code cells instead."
   ]
  },
  {
   "cell_type": "code",
   "execution_count": null,
   "metadata": {},
   "outputs": [],
   "source": [
    "# ADD AUXILIARY DATA STRUCTURE DEFINITIONS AND HELPER CODE HERE\n",
    "class Node:\n",
    "    def __init__(self, value:int, colour:bool, left=None, right=None):\n",
    "        self.value = value\n",
    "        self.colour = colour #true for red, false for black, for llrb tree\n",
    "        self.left = left\n",
    "        self.right = right\n",
    "        \n",
    "    def __init__(self, value:int, height=0, left=None, right=None):\n",
    "        self.value = value\n",
    "        self.height = height #for AVL tree\n",
    "        self.left = left\n",
    "        self.right = right\n",
    "\n",
    "def search(node, element):\n",
    "    if (node == None):\n",
    "        return False\n",
    "    elif (node.value > element):\n",
    "        return search(node.left, element)\n",
    "    elif (node.value < element):\n",
    "        return search(node.right, element)\n",
    "    elif (node.value == element):\n",
    "        return True\n",
    "    \n",
    "def rotateLeft(self, node):\n",
    "        x = node.right\n",
    "        node.right = x.left\n",
    "        x.left = node\n",
    "        x.colour = node.colour\n",
    "        node.colour = True\n",
    "        return x\n",
    "\n",
    "def rotateRight(self, node):\n",
    "    x = node.left\n",
    "    node.left = x.right\n",
    "    x.right = node\n",
    "    x.colour = node.colour\n",
    "    node.colour = True\n",
    "    return x"
   ]
  },
  {
   "cell_type": "markdown",
   "metadata": {},
   "source": [
    "Use the cell below to implement the requested API by means of **2-3 Tree** (if among your chosen data structure)."
   ]
  },
  {
   "cell_type": "code",
   "execution_count": null,
   "metadata": {},
   "outputs": [],
   "source": [
    "class TwoThreeTree(AbstractSearchInterface):\n",
    "        \n",
    "    def insertElement(self, element):\n",
    "        inserted = False\n",
    "        # ADD YOUR CODE HERE\n",
    "      \n",
    "        \n",
    "        return inserted\n",
    "    \n",
    "    \n",
    "\n",
    "    def searchElement(self, element):     \n",
    "        found = False\n",
    "        # ADD YOUR CODE HERE\n",
    "\n",
    "        \n",
    "        return found    "
   ]
  },
  {
   "cell_type": "markdown",
   "metadata": {},
   "source": [
    "Use the cell below to implement the requested API by means of **AVL Tree** (if among your chosen data structure)."
   ]
  },
  {
   "cell_type": "code",
   "execution_count": null,
   "metadata": {},
   "outputs": [],
   "source": [
    "class AVLTree(AbstractSearchInterface):\n",
    "\n",
    "    def __init__(self):\n",
    "        self.root = None\n",
    "\n",
    "    def __init__(self, val):\n",
    "        self.root = Node(val)\n",
    "    def height(self, node):\n",
    "        if node is None:\n",
    "            return 0\n",
    "        return node.height\n",
    "    def getBalance(self, node):\n",
    "        if node is None:\n",
    "            return 0\n",
    "        return self.height(node.left) - self.height(node.right)\n",
    "    \n",
    "    def put(self, node, element):\n",
    "        #normal BST insertion\n",
    "        if node is None:\n",
    "            return Node(element)\n",
    "        if element < node.value:\n",
    "            node.left = self.put(node.left, element)\n",
    "        elif element > node.value:\n",
    "            node.right = self.put(node.right, element)\n",
    "        else:\n",
    "            return node\n",
    "\n",
    "        node.height = 1 + max(self.height(node.left), self.height(node.right))\n",
    "        balance = self.getBalance(node)\n",
    "\n",
    "        # Left Left\n",
    "        if balance > 1 and element < node.left.value:\n",
    "            return rotateRight(node)\n",
    "\n",
    "        # Right Right\n",
    "        if balance < -1 and element > node.right.value:\n",
    "            return rotateLeft(node)\n",
    "\n",
    "        # Left Right\n",
    "        if balance > 1 and element > node.left.value:\n",
    "            node.left = rotateLeft(node.left)\n",
    "            return rotateRight(node)\n",
    "\n",
    "        # Right Left\n",
    "        if balance < -1 and element < node.right.value:\n",
    "            node.right = rotateRight(node.right)\n",
    "            return rotateLeft(node)\n",
    "\n",
    "        return node  \n",
    "    \n",
    "    def insertElement(self, element):\n",
    "        inserted = False\n",
    "        self.root = self.put(self.root, element)\n",
    "        inserted = True\n",
    "        return inserted\n",
    "    \n",
    "    \n",
    "\n",
    "    def searchElement(self, element):     \n",
    "        found = search(self.root, element)\n",
    "        return found  "
   ]
  },
  {
   "cell_type": "markdown",
   "metadata": {},
   "source": [
    "Use the cell below to implement the requested API by means of **LLRB BST** (if among your chosen data structure)."
   ]
  },
  {
   "cell_type": "code",
   "execution_count": null,
   "metadata": {},
   "outputs": [
    {
     "ename": "",
     "evalue": "",
     "output_type": "error",
     "traceback": [
      "\u001b[1;31mRunning cells with 'Python 3.12.6' requires the ipykernel package.\n",
      "\u001b[1;31mRun the following command to install 'ipykernel' into the Python environment. \n",
      "\u001b[1;31mCommand: '/opt/homebrew/bin/python3 -m pip install ipykernel -U --user --force-reinstall'"
     ]
    }
   ],
   "source": [
    "class LLRBBST(AbstractSearchInterface):\n",
    "    def __init__(self):\n",
    "        self.root = None\n",
    "    \n",
    "    def __init__(self, rootVal):\n",
    "        self.root = Node(rootVal, False)\n",
    "    \n",
    "    \n",
    "    def flipColour(self, node):\n",
    "        node.colour = True\n",
    "        node.left.colour = False\n",
    "        node.right.colour = False\n",
    "\n",
    "    def put(self, node, element):\n",
    "        if node == None:\n",
    "            return Node(element, True)\n",
    "        if element < node.value:\n",
    "            node.left = self.put(node.left, element)\n",
    "        elif element > node.value:\n",
    "            node.right = self.put(node.right, element)\n",
    "        else:\n",
    "            node.value = element  \n",
    "        \n",
    "        if (node.colour and not node.left.colour):\n",
    "            node = self.rotateLeft(node)\n",
    "        if (node.colour and node.left.left.colour):\n",
    "            node = self.rotateRight(node)\n",
    "        if (node.colour and node.right.colour):\n",
    "            self.flipColour(node)\n",
    "        return node\n",
    "\n",
    "    \n",
    "    def insertElement(self, element):\n",
    "        inserted = False\n",
    "        # ADD YOUR CODE HERE\n",
    "        self.root = self.put(self.root, element)\n",
    "        self.root.colour = False\n",
    "\n",
    "        inserted = True\n",
    "        return inserted\n",
    "    \n",
    "    \n",
    "\n",
    "    def searchElement(self, element):     \n",
    "        found = search(self.root, element)\n",
    "        return found\n",
    "        "
   ]
  },
  {
   "cell_type": "markdown",
   "metadata": {},
   "source": [
    "Use the cell below to implement the requested API by means of **B-Tree** (if among your chosen data structure)."
   ]
  },
  {
   "cell_type": "code",
   "execution_count": 16,
   "metadata": {},
   "outputs": [],
   "source": [
    "class BTree(AbstractSearchInterface):\n",
    "        \n",
    "    def insertElement(self, element):\n",
    "        inserted = False\n",
    "        # ADD YOUR CODE HERE\n",
    "      \n",
    "        \n",
    "        return inserted\n",
    "    \n",
    "    \n",
    "\n",
    "    def searchElement(self, element):     \n",
    "        found = False\n",
    "        # ADD YOUR CODE HERE\n",
    "\n",
    "        \n",
    "        return found"
   ]
  },
  {
   "cell_type": "markdown",
   "metadata": {},
   "source": [
    "Use the cell below to implement the requested API by means of **Scapegoat Tree** (if among your chosen data structure)."
   ]
  },
  {
   "cell_type": "code",
   "execution_count": 17,
   "metadata": {},
   "outputs": [],
   "source": [
    "class ScapegoatTree(AbstractSearchInterface):\n",
    "        \n",
    "    def insertElement(self, element):\n",
    "        inserted = False\n",
    "        # ADD YOUR CODE HERE\n",
    "      \n",
    "        \n",
    "        return inserted\n",
    "    \n",
    "    \n",
    "\n",
    "    def searchElement(self, element):     \n",
    "        found = False\n",
    "        # ADD YOUR CODE HERE\n",
    "\n",
    "        \n",
    "        return found "
   ]
  },
  {
   "cell_type": "markdown",
   "metadata": {},
   "source": [
    "Use the cell below to implement the **synthetic data generator** needed by your experimental framework (be mindful of code readability and reusability)."
   ]
  },
  {
   "cell_type": "code",
   "execution_count": 18,
   "metadata": {},
   "outputs": [],
   "source": [
    "import string\n",
    "import random\n",
    "\n",
    "class TestDataGenerator():\n",
    "    '''\n",
    "    A class to represent a synthetic data generator.\n",
    "\n",
    "    ...\n",
    "\n",
    "    Attributes\n",
    "    ----------\n",
    "    \n",
    "    [to be defined as part of the coursework]\n",
    "\n",
    "    Methods\n",
    "    -------\n",
    "    \n",
    "    [to be defined as part of the coursework]\n",
    "\n",
    "    '''\n",
    "    \n",
    "    #ADD YOUR CODE HERE\n",
    "    \n",
    "    def __init__():\n",
    "        pass\n",
    "    "
   ]
  },
  {
   "cell_type": "markdown",
   "metadata": {},
   "source": [
    "Use the cell below to implement the requested **experimental framework** (be mindful of code readability and reusability)."
   ]
  },
  {
   "cell_type": "code",
   "execution_count": 19,
   "metadata": {},
   "outputs": [],
   "source": [
    "import timeit\n",
    "import matplotlib\n",
    "\n",
    "class ExperimentalFramework():\n",
    "    '''\n",
    "    A class to represent an experimental framework.\n",
    "\n",
    "    ...\n",
    "\n",
    "    Attributes\n",
    "    ----------\n",
    "    \n",
    "    [to be defined as part of the coursework]\n",
    "\n",
    "    Methods\n",
    "    -------\n",
    "    \n",
    "    [to be defined as part of the coursework]\n",
    "\n",
    "    '''\n",
    "            \n",
    "    #ADD YOUR CODE HERE\n",
    "    \n",
    "    def __init__():\n",
    "        pass\n",
    "    "
   ]
  },
  {
   "cell_type": "markdown",
   "metadata": {},
   "source": [
    "Use the cell below to illustrate the python code you used to **fully evaluate** your three chosen search data structures and algortihms. The code below should illustrate, for example, how you made used of the **TestDataGenerator** class to generate test data of various size and properties; how you instatiated the **ExperimentalFramework** class to  evaluate each data structure using such data, collect information about their execution time, plot results, etc. Any results you illustrate in the companion PDF report should have been generated using the code below."
   ]
  },
  {
   "cell_type": "code",
   "execution_count": 20,
   "metadata": {},
   "outputs": [],
   "source": [
    "# ADD YOUR TEST CODE HERE \n",
    "\n",
    "\n",
    "\n"
   ]
  }
 ],
 "metadata": {
  "kernelspec": {
   "display_name": "Python 3",
   "language": "python",
   "name": "python3"
  },
  "language_info": {
   "codemirror_mode": {
    "name": "ipython",
    "version": 3
   },
   "file_extension": ".py",
   "mimetype": "text/x-python",
   "name": "python",
   "nbconvert_exporter": "python",
   "pygments_lexer": "ipython3",
   "version": "3.12.6"
  }
 },
 "nbformat": 4,
 "nbformat_minor": 4
}
